{
  "cells": [
    {
      "cell_type": "code",
      "execution_count": 1,
      "metadata": {
        "colab": {
          "base_uri": "https://localhost:8080/",
          "height": 696
        },
        "id": "MuwOdcCTXihX",
        "outputId": "cadb4146-704a-464c-b79f-483e84a79406"
      },
      "outputs": [
        {
          "name": "stdout",
          "output_type": "stream",
          "text": [
            "\u001b[33m\r0% [Working]\u001b[0m\r            \rGet:1 https://cloud.r-project.org/bin/linux/ubuntu bionic-cran40/ InRelease [3,626 B]\n",
            "\u001b[33m\r0% [Connecting to archive.ubuntu.com (185.125.190.36)] [Waiting for headers] [1\u001b[0m\u001b[33m\r0% [Connecting to archive.ubuntu.com (185.125.190.36)] [Waiting for headers] [W\u001b[0m\u001b[33m\r0% [1 InRelease gpgv 3,626 B] [Connecting to archive.ubuntu.com (185.125.190.36\u001b[0m\r                                                                               \rGet:2 http://security.ubuntu.com/ubuntu bionic-security InRelease [88.7 kB]\n",
            "\u001b[33m\r0% [1 InRelease gpgv 3,626 B] [Waiting for headers] [2 InRelease 14.2 kB/88.7 k\u001b[0m\r                                                                               \rIgn:3 https://developer.download.nvidia.com/compute/machine-learning/repos/ubuntu1804/x86_64  InRelease\n",
            "\u001b[33m\r0% [1 InRelease gpgv 3,626 B] [Waiting for headers] [2 InRelease 14.2 kB/88.7 k\u001b[0m\r                                                                               \rGet:4 https://developer.download.nvidia.com/compute/cuda/repos/ubuntu1804/x86_64  InRelease [1,581 B]\n",
            "Hit:5 https://developer.download.nvidia.com/compute/machine-learning/repos/ubuntu1804/x86_64  Release\n",
            "Hit:6 http://ppa.launchpad.net/c2d4u.team/c2d4u4.0+/ubuntu bionic InRelease\n",
            "Hit:7 http://archive.ubuntu.com/ubuntu bionic InRelease\n",
            "Get:8 http://archive.ubuntu.com/ubuntu bionic-updates InRelease [88.7 kB]\n",
            "Hit:9 http://ppa.launchpad.net/cran/libgit2/ubuntu bionic InRelease\n",
            "Hit:10 http://ppa.launchpad.net/deadsnakes/ppa/ubuntu bionic InRelease\n",
            "Get:11 http://archive.ubuntu.com/ubuntu bionic-backports InRelease [83.3 kB]\n",
            "Get:12 https://developer.download.nvidia.com/compute/cuda/repos/ubuntu1804/x86_64  Packages [1,038 kB]\n",
            "Hit:13 http://ppa.launchpad.net/graphics-drivers/ppa/ubuntu bionic InRelease\n",
            "Get:15 http://security.ubuntu.com/ubuntu bionic-security/universe amd64 Packages [1,563 kB]\n",
            "Get:16 http://security.ubuntu.com/ubuntu bionic-security/main amd64 Packages [3,068 kB]\n",
            "Get:17 http://archive.ubuntu.com/ubuntu bionic-updates/main amd64 Packages [3,496 kB]\n",
            "Get:18 http://archive.ubuntu.com/ubuntu bionic-updates/universe amd64 Packages [2,338 kB]\n",
            "Get:19 http://archive.ubuntu.com/ubuntu bionic-updates/restricted amd64 Packages [1,303 kB]\n",
            "Fetched 13.1 MB in 6s (2,033 kB/s)\n",
            "Reading package lists... Done\n",
            "Building dependency tree       \n",
            "Reading state information... Done\n",
            "11 packages can be upgraded. Run 'apt list --upgradable' to see them.\n",
            "Looking in indexes: https://pypi.org/simple, https://us-python.pkg.dev/colab-wheels/public/simple/\n",
            "Collecting pyspark\n",
            "  Downloading pyspark-3.3.1.tar.gz (281.4 MB)\n",
            "\u001b[K     |████████████████████████████████| 281.4 MB 46 kB/s \n",
            "\u001b[?25hCollecting py4j==0.10.9.5\n",
            "  Downloading py4j-0.10.9.5-py2.py3-none-any.whl (199 kB)\n",
            "\u001b[K     |████████████████████████████████| 199 kB 49.9 MB/s \n",
            "\u001b[?25hBuilding wheels for collected packages: pyspark\n",
            "  Building wheel for pyspark (setup.py) ... \u001b[?25l\u001b[?25hdone\n",
            "  Created wheel for pyspark: filename=pyspark-3.3.1-py2.py3-none-any.whl size=281845512 sha256=508bd72f8999d35ddc1b3582c8d9d1a55941bb43334f3bf6ca9c2f124207113c\n",
            "  Stored in directory: /root/.cache/pip/wheels/42/59/f5/79a5bf931714dcd201b26025347785f087370a10a3329a899c\n",
            "Successfully built pyspark\n",
            "Installing collected packages: py4j, pyspark\n",
            "Successfully installed py4j-0.10.9.5 pyspark-3.3.1\n"
          ]
        },
        {
          "data": {
            "application/vnd.google.colaboratory.intrinsic+json": {
              "type": "string"
            },
            "text/plain": [
              "'/content/spark-3.2.2-bin-hadoop3.2'"
            ]
          },
          "execution_count": 1,
          "metadata": {},
          "output_type": "execute_result"
        }
      ],
      "source": [
        "\n",
        "#Bibliotecas para poder trabajar con Spark\n",
        "!sudo apt update\n",
        "!apt-get install openjdk-8-jdk-headless -qq > /dev/null\n",
        "!wget -q https://downloads.apache.org/spark/spark-3.2.2//spark-3.2.2-bin-hadoop3.2.tgz\n",
        "!tar xf spark-3.2.2-bin-hadoop3.2.tgz\n",
        "#Configuración de Spark con Python\n",
        "!pip install -q findspark\n",
        "!pip install pyspark\n",
        "\n",
        "from IPython.display import Image\n",
        "\n",
        "#Estableciendo variable de entorno\n",
        "import os\n",
        "os.environ[\"JAVA_HOME\"] = \"/usr/lib/jvm/java-8-openjdk-amd64\"\n",
        "os.environ[\"SPARK_HOME\"] = \"/content/spark-3.2.2-bin-hadoop3.2\"\n",
        "\n",
        "#Buscando e inicializando la instalación de Spark\n",
        "import findspark\n",
        "findspark.init()\n",
        "findspark.find()"
      ]
    },
    {
      "cell_type": "code",
      "execution_count": 2,
      "metadata": {
        "colab": {
          "base_uri": "https://localhost:8080/"
        },
        "id": "bpbIQtOuT2AQ",
        "outputId": "af34e747-487e-4ef0-ed01-8d605cadd287"
      },
      "outputs": [
        {
          "name": "stdout",
          "output_type": "stream",
          "text": [
            "Mounted at /content/gdrive\n",
            "/content/gdrive/Shareddrives/Reto AI SEPTIMO\n"
          ]
        }
      ],
      "source": [
        "from google.colab import drive\n",
        "\n",
        "drive.mount(\"/content/gdrive\")\n",
        "%cd \"/content/gdrive/Shareddrives/Reto AI SEPTIMO\""
      ]
    },
    {
      "cell_type": "code",
      "execution_count": 3,
      "metadata": {
        "colab": {
          "base_uri": "https://localhost:8080/",
          "height": 221
        },
        "id": "GH6VIbEJT5pc",
        "outputId": "c73173aa-8256-4f0d-9afd-cea5f0c71594"
      },
      "outputs": [
        {
          "data": {
            "text/html": [
              "\n",
              "            <div>\n",
              "                <p><b>SparkSession - in-memory</b></p>\n",
              "                \n",
              "        <div>\n",
              "            <p><b>SparkContext</b></p>\n",
              "\n",
              "            <p><a href=\"http://310d1cc404a0:4040\">Spark UI</a></p>\n",
              "\n",
              "            <dl>\n",
              "              <dt>Version</dt>\n",
              "                <dd><code>v3.2.2</code></dd>\n",
              "              <dt>Master</dt>\n",
              "                <dd><code>local[*]</code></dd>\n",
              "              <dt>AppName</dt>\n",
              "                <dd><code>Entregable_Mod1</code></dd>\n",
              "            </dl>\n",
              "        </div>\n",
              "        \n",
              "            </div>\n",
              "        "
            ],
            "text/plain": [
              "<pyspark.sql.session.SparkSession at 0x7fec35a7ea90>"
            ]
          },
          "execution_count": 3,
          "metadata": {},
          "output_type": "execute_result"
        }
      ],
      "source": [
        "#Verificar la funcionalidad de Pyspark \n",
        "from pyspark.sql import SparkSession\n",
        "from pyspark import SparkContext\n",
        "from pyspark.mllib.regression import LabeledPoint\n",
        "from pyspark.sql.functions import col\n",
        "from pyspark.sql.types import IntegerType,FloatType \n",
        "spark_session = SparkSession.builder.appName('Entregable_Mod1').config(\"spark.driver.memory\", \"24g\").getOrCreate()\n",
        "spark_session\n"
      ]
    },
    {
      "cell_type": "markdown",
      "metadata": {
        "id": "cSRaWNt9qF6j"
      },
      "source": [
        "Considerando una versión del set de datos empleado en el reto, en el cual ya se pasó por un proceso de label encoding y PCA. Se lee el archivo csv y se convierte en un dataframe de spark:"
      ]
    },
    {
      "cell_type": "code",
      "execution_count": 4,
      "metadata": {
        "colab": {
          "base_uri": "https://localhost:8080/"
        },
        "id": "rHbSyUV0c37k",
        "outputId": "0179d414-c003-4889-a440-02de9da7691b"
      },
      "outputs": [
        {
          "data": {
            "text/plain": [
              "DataFrame[_c0: string, _c1: string, _c2: string, _c3: string, _c4: string, _c5: string, _c6: string, _c7: string, _c8: string, _c9: string, _c10: string, _c11: string, _c12: string, _c13: string, _c14: string, _c15: string, _c16: string, _c17: string, _c18: string, _c19: string, _c20: string, _c21: string, _c22: string, _c23: string, _c24: string, _c25: string, _c26: string, _c27: string]"
            ]
          },
          "execution_count": 4,
          "metadata": {},
          "output_type": "execute_result"
        }
      ],
      "source": [
        "df_spark = spark_session.read.csv('telcom_numeric.csv')\n",
        "df_spark"
      ]
    },
    {
      "cell_type": "code",
      "execution_count": 5,
      "metadata": {
        "colab": {
          "base_uri": "https://localhost:8080/"
        },
        "id": "Dc9XlZQ3c-7b",
        "outputId": "33175af0-d476-401b-deb8-a14d0950c5c6"
      },
      "outputs": [
        {
          "name": "stdout",
          "output_type": "stream",
          "text": [
            "+----+------+-----------+------------+------------------+------------------+--------------------+------------------+-------------+--------------+-----------+------------------+--------------------+--------------------+--------------------+--------------------+------------------+--------------------+-----------------+-------------+-------------+----------+------------+--------------------+---------------+------+--------------------+-----------------+\n",
            "| _c0|   _c1|        _c2|         _c3|               _c4|               _c5|                 _c6|               _c7|          _c8|           _c9|       _c10|              _c11|                _c12|                _c13|                _c14|                _c15|              _c16|                _c17|             _c18|         _c19|         _c20|      _c21|        _c22|                _c23|           _c24|  _c25|                _c26|             _c27|\n",
            "+----+------+-----------+------------+------------------+------------------+--------------------+------------------+-------------+--------------+-----------+------------------+--------------------+--------------------+--------------------+--------------------+------------------+--------------------+-----------------+-------------+-------------+----------+------------+--------------------+---------------+------+--------------------+-----------------+\n",
            "|null|TARGET|YEAR_JOINED|CURRENT_YEAR|       BILL_AMOUNT|       PAID_AMOUNT|PAYMENT_TRANSACTIONS|         PARTY_REV|PREPAID_LINES|POSTPAID_LINES|OTHER_LINES|          LINE_REV|MOUS_TO_LOCAL_MOB...|MOUS_FROM_LOCAL_M...|MOUS_TO_LOCAL_LAN...|MOUS_FROM_LOCAL_L...|MOUS_TO_INT_NUMBER|MOUS_FROM_INT_NUMBER|     DATA_IN_BNDL|DATA_OUT_BNDL|DATA_USG_PAYG|COMPLAINTS|Years_stayed|PTY_PROFILE_SUB_TYPE|PARTY_GENDER_CD|STATUS|SOCIO_ECONOMIC_SE...|PARTY_NATIONALITY|\n",
            "|   0|     0|       1994|        2019| 931.2089381866666| 812.1749999999998|                   1| 5968.700000000001|            2|             6|          2|            945.04|             1004.07|               35.85|              34.015|              72.075|            141.84|              56.115| 11944.0791015625|          0.0|          0.0|         0|          25|                   2|              1|     0|                   0|              179|\n",
            "|   1|     0|       1994|        2019| 431.0826183133333|             486.5|                   1| 6245.141666666666|            6|             4|          2|           493.815|              159.05|              10.595|               7.715|               11.75| 5.109999999999999|                 0.0| 9903.15771484375|          0.0|          0.0|         0|          25|                   1|              1|     0|                   0|              179|\n",
            "|   2|     0|       1994|        2019|50.619643642166665|            52.815|                   1|1666.4883333333337|            2|             3|          1|              50.3|                 0.0|                 0.0|                 0.0|                 0.0|               0.0|                 0.0|     0.1025390625|          0.0|          0.0|         0|          25|                   2|              1|     0|                   0|              179|\n",
            "|   3|     0|       1994|        2019|      399.71003444|           422.235|                   1| 2522.008333333333|            3|             4|          3| 406.5866666666666|             288.805|               158.5|                2.67|              15.965|               0.0|                 0.0|   3600.322265625|          0.0|          0.0|         0|          25|                   1|              1|     0|                   0|              179|\n",
            "|   4|     0|       1994|        2019| 612.6658442616666| 825.8883333333333|                   1|1219.9616666666666|            0|             2|          1| 751.1850000000001|              209.76|              186.05|              17.515|              28.685|3.2350000000000003|               4.475|  3852.0263671875|          0.0|          0.0|         0|          25|                   2|              1|     0|                   0|              179|\n",
            "|   5|     0|       1994|        2019|     45.1871440805| 41.10666666666666|                   1|481.02333333333326|            1|             3|          1|              45.1|                 0.0|                 0.0|                 0.0|                 0.0|               0.0|                 0.0|              0.0|          0.0|          0.0|         0|          25|                   2|              1|     0|                   0|              179|\n",
            "|   6|     0|       1994|        2019|     979.851059065|1090.2166666666665|                   1|1569.4683333333332|            0|             3|          1|1089.4816666666666|             551.905|              23.925|               46.31|              87.015| 367.0750000000001|              59.575|15812.12060546875|          0.0|          0.0|         0|          25|                   1|              1|     0|                   1|               98|\n",
            "|   7|     0|       1994|        2019| 521.7158063633334| 574.4516666666667|                   1| 2657.863333333333|            2|             3|          1| 552.1716666666666|             758.825|              438.86|   87.86500000000001|               74.97|             47.89|               0.115|  8322.6689453125|          0.0|          0.0|         0|          25|                   2|              1|     0|                   0|              179|\n",
            "|   8|     0|       1994|        2019|      495.75487575|           550.285|                   1|2187.9166666666665|            2|             5|          2|           459.495|              592.52|              60.125|               34.16|               63.49|             5.055|              21.465|  1448.6279296875|          0.0|          0.0|         0|          25|                   1|              1|     0|                   0|              179|\n",
            "|   9|     0|       1994|        2019| 479.8397672850001| 506.3333333333333|                   1|1272.2383333333332|            2|             3|          1|           513.005|              234.85|               25.91|              34.585|              17.945|               0.0|                 0.0|  8288.7158203125|          0.0|          0.0|         0|          25|                   2|              1|     0|                   0|              179|\n",
            "|  10|     0|       1994|        2019|138.20324914333332|           122.235|                   1| 5491.433333333333|            0|             5|          1|           153.705|             239.185|              20.125|  16.134999999999998|                13.4|              0.85|                 0.0|  5195.3720703125|          0.0|          0.0|         0|          25|                   2|              1|     0|                   2|              179|\n",
            "|  11|     0|       1994|        2019|244.11823227333332|            295.51|                   1|            369.46|            1|             2|          0| 347.7283333333333|              164.82|               82.61|                6.72|                2.85| 69.82499999999999|                 0.0|  527.91552734375|          0.0|          0.0|         0|          25|                   2|              1|     0|                   1|               87|\n",
            "|  12|     0|       1994|        2019| 518.2488735133334| 575.9483333333334|                   2| 590.1683333333333|            0|             2|          0| 540.1683333333333|  180.08499999999998|  164.45499999999998|                9.95|               46.85|           457.045|              16.125|              0.0|          0.0|          0.0|         0|          25|                   2|              1|     0|                   1|               87|\n",
            "|  13|     0|       1994|        2019| 18.94334595933333|24.166666666666668|                   1| 4369.669999999999|            1|             5|          3|23.166666666666668|                 0.0|                 0.0|                 0.0|                 0.0|               0.0|                 0.0|              0.0|          0.0|          0.0|         0|          25|                   2|              1|     0|                   0|              179|\n",
            "|  14|     0|       1994|        2019| 909.3535828766666| 986.3616666666668|                   1|          2013.335|            0|             4|          0|1069.6416666666669|   752.8199999999999|             673.365|              34.125|   88.66999999999999|               0.0|                0.16|  2404.9833984375|          0.0|          0.0|         0|          25|                   1|              1|     0|                   0|              179|\n",
            "|  15|     0|       1994|        2019| 737.7731700483333| 577.8333333333334|                   1|           5174.58|            8|             4|          0| 520.7966666666667|              328.45|               16.54|              32.685|               15.81|             0.335|                 0.0|    3131.44921875|          0.0|          0.0|         0|          25|                   1|              1|     0|                   0|              179|\n",
            "|  16|     0|       1994|        2019| 270.9085367966667|            283.95|                   4| 2068.623333333333|            2|             3|          2|276.81333333333333|  357.33500000000004|              38.895|               34.02|                2.14|               0.0|                 0.0|     38.642578125|          0.0|          0.0|         0|          25|                   2|              1|     0|                   0|              179|\n",
            "|  17|     0|       1994|        2019| 266.5022617516667|            267.17|                   1| 623.2116666666667|            3|             1|          1|            245.78|              169.78|               8.055|                23.5|                9.32|             11.29|                2.39|    91.9853515625|          0.0|          0.0|         0|          25|                   2|              1|     0|                   0|              179|\n",
            "|  18|     0|       1994|        2019| 51.06204739583333| 66.66666666666667|                   1|5169.4800000000005|            7|            10|          2|              50.0|                 0.0|                 0.0|                 0.0|                 0.0|               0.0|                 0.0|              0.0|          0.0|          0.0|         0|          25|                   2|              1|     0|                   0|              179|\n",
            "+----+------+-----------+------------+------------------+------------------+--------------------+------------------+-------------+--------------+-----------+------------------+--------------------+--------------------+--------------------+--------------------+------------------+--------------------+-----------------+-------------+-------------+----------+------------+--------------------+---------------+------+--------------------+-----------------+\n",
            "only showing top 20 rows\n",
            "\n"
          ]
        }
      ],
      "source": [
        "df_spark.show()"
      ]
    },
    {
      "cell_type": "markdown",
      "metadata": {
        "id": "9DOUdxhwuZ7D"
      },
      "source": [
        "Se obtienen los nombres de las columnas y sus tipos de dato"
      ]
    },
    {
      "cell_type": "code",
      "execution_count": 6,
      "metadata": {
        "colab": {
          "base_uri": "https://localhost:8080/"
        },
        "id": "UNwoYqBHdFkn",
        "outputId": "a1210823-d23b-4df0-b30a-1553885dafc0"
      },
      "outputs": [
        {
          "data": {
            "text/plain": [
              "DataFrame[_c0: string, TARGET: string, YEAR_JOINED: string, CURRENT_YEAR: string, BILL_AMOUNT: string, PAID_AMOUNT: string, PAYMENT_TRANSACTIONS: string, PARTY_REV: string, PREPAID_LINES: string, POSTPAID_LINES: string, OTHER_LINES: string, LINE_REV: string, MOUS_TO_LOCAL_MOBILES: string, MOUS_FROM_LOCAL_MOBILES: string, MOUS_TO_LOCAL_LANDLINES: string, MOUS_FROM_LOCAL_LANDLINES: string, MOUS_TO_INT_NUMBER: string, MOUS_FROM_INT_NUMBER: string, DATA_IN_BNDL: string, DATA_OUT_BNDL: string, DATA_USG_PAYG: string, COMPLAINTS: string, Years_stayed: string, PTY_PROFILE_SUB_TYPE: string, PARTY_GENDER_CD: string, STATUS: string, SOCIO_ECONOMIC_SEGMENT: string, PARTY_NATIONALITY: string]"
            ]
          },
          "execution_count": 6,
          "metadata": {},
          "output_type": "execute_result"
        }
      ],
      "source": [
        "#La opción option('header','true')\n",
        "df_spark_col  = spark_session.read.option('header', 'true').csv('telcom_numeric.csv')\n",
        "df_spark_col"
      ]
    },
    {
      "cell_type": "markdown",
      "metadata": {
        "id": "jFjJuCXCueqC"
      },
      "source": [
        "Se dropean todos los posibles NaNs que se presenten en el set de datos"
      ]
    },
    {
      "cell_type": "code",
      "execution_count": 7,
      "metadata": {
        "colab": {
          "base_uri": "https://localhost:8080/"
        },
        "id": "lElrcmHdgZ9D",
        "outputId": "1f44ed0d-ed70-468a-d45d-14ce6b350b55"
      },
      "outputs": [
        {
          "data": {
            "text/plain": [
              "DataFrame[_c0: string, TARGET: string, YEAR_JOINED: string, CURRENT_YEAR: string, BILL_AMOUNT: string, PAID_AMOUNT: string, PAYMENT_TRANSACTIONS: string, PARTY_REV: string, PREPAID_LINES: string, POSTPAID_LINES: string, OTHER_LINES: string, LINE_REV: string, MOUS_TO_LOCAL_MOBILES: string, MOUS_FROM_LOCAL_MOBILES: string, MOUS_TO_LOCAL_LANDLINES: string, MOUS_FROM_LOCAL_LANDLINES: string, MOUS_TO_INT_NUMBER: string, MOUS_FROM_INT_NUMBER: string, DATA_IN_BNDL: string, DATA_OUT_BNDL: string, DATA_USG_PAYG: string, COMPLAINTS: string, Years_stayed: string, PTY_PROFILE_SUB_TYPE: string, PARTY_GENDER_CD: string, STATUS: string, SOCIO_ECONOMIC_SEGMENT: string, PARTY_NATIONALITY: string]"
            ]
          },
          "execution_count": 7,
          "metadata": {},
          "output_type": "execute_result"
        }
      ],
      "source": [
        "df_spark_col = df_spark_col.na.drop(how = \"any\")\n",
        "df_spark_col"
      ]
    },
    {
      "cell_type": "code",
      "execution_count": 8,
      "metadata": {
        "colab": {
          "base_uri": "https://localhost:8080/"
        },
        "id": "nQ59wgUddQsz",
        "outputId": "d831d356-ebec-4a20-84d3-b841ea3ef133"
      },
      "outputs": [
        {
          "name": "stdout",
          "output_type": "stream",
          "text": [
            "+---+------+-----------+------------+------------------+------------------+--------------------+------------------+-------------+--------------+-----------+------------------+---------------------+-----------------------+-----------------------+-------------------------+------------------+--------------------+-----------------+-------------+-------------+----------+------------+--------------------+---------------+------+----------------------+-----------------+\n",
            "|_c0|TARGET|YEAR_JOINED|CURRENT_YEAR|       BILL_AMOUNT|       PAID_AMOUNT|PAYMENT_TRANSACTIONS|         PARTY_REV|PREPAID_LINES|POSTPAID_LINES|OTHER_LINES|          LINE_REV|MOUS_TO_LOCAL_MOBILES|MOUS_FROM_LOCAL_MOBILES|MOUS_TO_LOCAL_LANDLINES|MOUS_FROM_LOCAL_LANDLINES|MOUS_TO_INT_NUMBER|MOUS_FROM_INT_NUMBER|     DATA_IN_BNDL|DATA_OUT_BNDL|DATA_USG_PAYG|COMPLAINTS|Years_stayed|PTY_PROFILE_SUB_TYPE|PARTY_GENDER_CD|STATUS|SOCIO_ECONOMIC_SEGMENT|PARTY_NATIONALITY|\n",
            "+---+------+-----------+------------+------------------+------------------+--------------------+------------------+-------------+--------------+-----------+------------------+---------------------+-----------------------+-----------------------+-------------------------+------------------+--------------------+-----------------+-------------+-------------+----------+------------+--------------------+---------------+------+----------------------+-----------------+\n",
            "|  0|     0|       1994|        2019| 931.2089381866666| 812.1749999999998|                   1| 5968.700000000001|            2|             6|          2|            945.04|              1004.07|                  35.85|                 34.015|                   72.075|            141.84|              56.115| 11944.0791015625|          0.0|          0.0|         0|          25|                   2|              1|     0|                     0|              179|\n",
            "|  1|     0|       1994|        2019| 431.0826183133333|             486.5|                   1| 6245.141666666666|            6|             4|          2|           493.815|               159.05|                 10.595|                  7.715|                    11.75| 5.109999999999999|                 0.0| 9903.15771484375|          0.0|          0.0|         0|          25|                   1|              1|     0|                     0|              179|\n",
            "|  2|     0|       1994|        2019|50.619643642166665|            52.815|                   1|1666.4883333333337|            2|             3|          1|              50.3|                  0.0|                    0.0|                    0.0|                      0.0|               0.0|                 0.0|     0.1025390625|          0.0|          0.0|         0|          25|                   2|              1|     0|                     0|              179|\n",
            "|  3|     0|       1994|        2019|      399.71003444|           422.235|                   1| 2522.008333333333|            3|             4|          3| 406.5866666666666|              288.805|                  158.5|                   2.67|                   15.965|               0.0|                 0.0|   3600.322265625|          0.0|          0.0|         0|          25|                   1|              1|     0|                     0|              179|\n",
            "|  4|     0|       1994|        2019| 612.6658442616666| 825.8883333333333|                   1|1219.9616666666666|            0|             2|          1| 751.1850000000001|               209.76|                 186.05|                 17.515|                   28.685|3.2350000000000003|               4.475|  3852.0263671875|          0.0|          0.0|         0|          25|                   2|              1|     0|                     0|              179|\n",
            "|  5|     0|       1994|        2019|     45.1871440805| 41.10666666666666|                   1|481.02333333333326|            1|             3|          1|              45.1|                  0.0|                    0.0|                    0.0|                      0.0|               0.0|                 0.0|              0.0|          0.0|          0.0|         0|          25|                   2|              1|     0|                     0|              179|\n",
            "|  6|     0|       1994|        2019|     979.851059065|1090.2166666666665|                   1|1569.4683333333332|            0|             3|          1|1089.4816666666666|              551.905|                 23.925|                  46.31|                   87.015| 367.0750000000001|              59.575|15812.12060546875|          0.0|          0.0|         0|          25|                   1|              1|     0|                     1|               98|\n",
            "|  7|     0|       1994|        2019| 521.7158063633334| 574.4516666666667|                   1| 2657.863333333333|            2|             3|          1| 552.1716666666666|              758.825|                 438.86|      87.86500000000001|                    74.97|             47.89|               0.115|  8322.6689453125|          0.0|          0.0|         0|          25|                   2|              1|     0|                     0|              179|\n",
            "|  8|     0|       1994|        2019|      495.75487575|           550.285|                   1|2187.9166666666665|            2|             5|          2|           459.495|               592.52|                 60.125|                  34.16|                    63.49|             5.055|              21.465|  1448.6279296875|          0.0|          0.0|         0|          25|                   1|              1|     0|                     0|              179|\n",
            "|  9|     0|       1994|        2019| 479.8397672850001| 506.3333333333333|                   1|1272.2383333333332|            2|             3|          1|           513.005|               234.85|                  25.91|                 34.585|                   17.945|               0.0|                 0.0|  8288.7158203125|          0.0|          0.0|         0|          25|                   2|              1|     0|                     0|              179|\n",
            "| 10|     0|       1994|        2019|138.20324914333332|           122.235|                   1| 5491.433333333333|            0|             5|          1|           153.705|              239.185|                 20.125|     16.134999999999998|                     13.4|              0.85|                 0.0|  5195.3720703125|          0.0|          0.0|         0|          25|                   2|              1|     0|                     2|              179|\n",
            "| 11|     0|       1994|        2019|244.11823227333332|            295.51|                   1|            369.46|            1|             2|          0| 347.7283333333333|               164.82|                  82.61|                   6.72|                     2.85| 69.82499999999999|                 0.0|  527.91552734375|          0.0|          0.0|         0|          25|                   2|              1|     0|                     1|               87|\n",
            "| 12|     0|       1994|        2019| 518.2488735133334| 575.9483333333334|                   2| 590.1683333333333|            0|             2|          0| 540.1683333333333|   180.08499999999998|     164.45499999999998|                   9.95|                    46.85|           457.045|              16.125|              0.0|          0.0|          0.0|         0|          25|                   2|              1|     0|                     1|               87|\n",
            "| 13|     0|       1994|        2019| 18.94334595933333|24.166666666666668|                   1| 4369.669999999999|            1|             5|          3|23.166666666666668|                  0.0|                    0.0|                    0.0|                      0.0|               0.0|                 0.0|              0.0|          0.0|          0.0|         0|          25|                   2|              1|     0|                     0|              179|\n",
            "| 14|     0|       1994|        2019| 909.3535828766666| 986.3616666666668|                   1|          2013.335|            0|             4|          0|1069.6416666666669|    752.8199999999999|                673.365|                 34.125|        88.66999999999999|               0.0|                0.16|  2404.9833984375|          0.0|          0.0|         0|          25|                   1|              1|     0|                     0|              179|\n",
            "| 15|     0|       1994|        2019| 737.7731700483333| 577.8333333333334|                   1|           5174.58|            8|             4|          0| 520.7966666666667|               328.45|                  16.54|                 32.685|                    15.81|             0.335|                 0.0|    3131.44921875|          0.0|          0.0|         0|          25|                   1|              1|     0|                     0|              179|\n",
            "| 16|     0|       1994|        2019| 270.9085367966667|            283.95|                   4| 2068.623333333333|            2|             3|          2|276.81333333333333|   357.33500000000004|                 38.895|                  34.02|                     2.14|               0.0|                 0.0|     38.642578125|          0.0|          0.0|         0|          25|                   2|              1|     0|                     0|              179|\n",
            "| 17|     0|       1994|        2019| 266.5022617516667|            267.17|                   1| 623.2116666666667|            3|             1|          1|            245.78|               169.78|                  8.055|                   23.5|                     9.32|             11.29|                2.39|    91.9853515625|          0.0|          0.0|         0|          25|                   2|              1|     0|                     0|              179|\n",
            "| 18|     0|       1994|        2019| 51.06204739583333| 66.66666666666667|                   1|5169.4800000000005|            7|            10|          2|              50.0|                  0.0|                    0.0|                    0.0|                      0.0|               0.0|                 0.0|              0.0|          0.0|          0.0|         0|          25|                   2|              1|     0|                     0|              179|\n",
            "| 19|     0|       1994|        2019| 93.02646267133332|114.48333333333332|                   1|3324.7183333333337|            6|             3|          2|117.78833333333334|              170.385|                  67.21|                   9.14|                     2.48|             0.185|                 0.0|          94.6875|          0.0|          0.0|         0|          25|                   2|              1|     5|                     0|              179|\n",
            "+---+------+-----------+------------+------------------+------------------+--------------------+------------------+-------------+--------------+-----------+------------------+---------------------+-----------------------+-----------------------+-------------------------+------------------+--------------------+-----------------+-------------+-------------+----------+------------+--------------------+---------------+------+----------------------+-----------------+\n",
            "only showing top 20 rows\n",
            "\n"
          ]
        }
      ],
      "source": [
        "df_spark_col.show()"
      ]
    },
    {
      "cell_type": "code",
      "execution_count": 9,
      "metadata": {
        "colab": {
          "base_uri": "https://localhost:8080/"
        },
        "id": "atLbpen9dbai",
        "outputId": "9f458d37-7aba-4e7d-ac0b-207b5a8ae827"
      },
      "outputs": [
        {
          "name": "stdout",
          "output_type": "stream",
          "text": [
            "root\n",
            " |-- _c0: string (nullable = true)\n",
            " |-- TARGET: string (nullable = true)\n",
            " |-- YEAR_JOINED: string (nullable = true)\n",
            " |-- CURRENT_YEAR: string (nullable = true)\n",
            " |-- BILL_AMOUNT: string (nullable = true)\n",
            " |-- PAID_AMOUNT: string (nullable = true)\n",
            " |-- PAYMENT_TRANSACTIONS: string (nullable = true)\n",
            " |-- PARTY_REV: string (nullable = true)\n",
            " |-- PREPAID_LINES: string (nullable = true)\n",
            " |-- POSTPAID_LINES: string (nullable = true)\n",
            " |-- OTHER_LINES: string (nullable = true)\n",
            " |-- LINE_REV: string (nullable = true)\n",
            " |-- MOUS_TO_LOCAL_MOBILES: string (nullable = true)\n",
            " |-- MOUS_FROM_LOCAL_MOBILES: string (nullable = true)\n",
            " |-- MOUS_TO_LOCAL_LANDLINES: string (nullable = true)\n",
            " |-- MOUS_FROM_LOCAL_LANDLINES: string (nullable = true)\n",
            " |-- MOUS_TO_INT_NUMBER: string (nullable = true)\n",
            " |-- MOUS_FROM_INT_NUMBER: string (nullable = true)\n",
            " |-- DATA_IN_BNDL: string (nullable = true)\n",
            " |-- DATA_OUT_BNDL: string (nullable = true)\n",
            " |-- DATA_USG_PAYG: string (nullable = true)\n",
            " |-- COMPLAINTS: string (nullable = true)\n",
            " |-- Years_stayed: string (nullable = true)\n",
            " |-- PTY_PROFILE_SUB_TYPE: string (nullable = true)\n",
            " |-- PARTY_GENDER_CD: string (nullable = true)\n",
            " |-- STATUS: string (nullable = true)\n",
            " |-- SOCIO_ECONOMIC_SEGMENT: string (nullable = true)\n",
            " |-- PARTY_NATIONALITY: string (nullable = true)\n",
            "\n"
          ]
        }
      ],
      "source": [
        "df_spark_col.printSchema()"
      ]
    },
    {
      "cell_type": "markdown",
      "metadata": {
        "id": "rVG9gGqxu3jd"
      },
      "source": [
        "Se hace una conversión de datos string a float o integer según la columna, si bien el set de datos ya estaba en términos numéricos, Spark los consideró como cadenas al crear el dataframe inicial"
      ]
    },
    {
      "cell_type": "code",
      "execution_count": 10,
      "metadata": {
        "colab": {
          "base_uri": "https://localhost:8080/"
        },
        "id": "QSjJ2Jy1eGxQ",
        "outputId": "2f9b78a9-cc7e-491f-b6fa-56fb62a78a0a"
      },
      "outputs": [
        {
          "name": "stdout",
          "output_type": "stream",
          "text": [
            "+---+------+-----------+------------+-----------+-----------+--------------------+---------+-------------+--------------+-----------+---------+---------------------+-----------------------+-----------------------+-------------------------+------------------+--------------------+------------+-------------+-------------+----------+------------+--------------------+---------------+------+----------------------+-----------------+\n",
            "|_c0|TARGET|YEAR_JOINED|CURRENT_YEAR|BILL_AMOUNT|PAID_AMOUNT|PAYMENT_TRANSACTIONS|PARTY_REV|PREPAID_LINES|POSTPAID_LINES|OTHER_LINES| LINE_REV|MOUS_TO_LOCAL_MOBILES|MOUS_FROM_LOCAL_MOBILES|MOUS_TO_LOCAL_LANDLINES|MOUS_FROM_LOCAL_LANDLINES|MOUS_TO_INT_NUMBER|MOUS_FROM_INT_NUMBER|DATA_IN_BNDL|DATA_OUT_BNDL|DATA_USG_PAYG|COMPLAINTS|Years_stayed|PTY_PROFILE_SUB_TYPE|PARTY_GENDER_CD|STATUS|SOCIO_ECONOMIC_SEGMENT|PARTY_NATIONALITY|\n",
            "+---+------+-----------+------------+-----------+-----------+--------------------+---------+-------------+--------------+-----------+---------+---------------------+-----------------------+-----------------------+-------------------------+------------------+--------------------+------------+-------------+-------------+----------+------------+--------------------+---------------+------+----------------------+-----------------+\n",
            "|  0|     0|       1994|        2019|   931.2089|    812.175|                   1|   5968.7|            2|             6|          2|   945.04|              1004.07|                  35.85|                 34.015|                   72.075|            141.84|              56.115|   11944.079|          0.0|          0.0|         0|        25.0|                 2.0|              1|     0|                     0|              179|\n",
            "|  1|     0|       1994|        2019|   431.0826|      486.5|                   1|6245.1416|            6|             4|          2|  493.815|               159.05|                 10.595|                  7.715|                    11.75|              5.11|                 0.0|    9903.158|          0.0|          0.0|         0|        25.0|                 1.0|              1|     0|                     0|              179|\n",
            "|  2|     0|       1994|        2019|  50.619644|     52.815|                   1|1666.4883|            2|             3|          1|     50.3|                  0.0|                    0.0|                    0.0|                      0.0|               0.0|                 0.0|  0.10253906|          0.0|          0.0|         0|        25.0|                 2.0|              1|     0|                     0|              179|\n",
            "|  3|     0|       1994|        2019|  399.71002|    422.235|                   1|2522.0083|            3|             4|          3|406.58667|              288.805|                  158.5|                   2.67|                   15.965|               0.0|                 0.0|   3600.3223|          0.0|          0.0|         0|        25.0|                 1.0|              1|     0|                     0|              179|\n",
            "|  4|     0|       1994|        2019|  612.66583|   825.8883|                   1|1219.9617|            0|             2|          1|  751.185|               209.76|                 186.05|                 17.515|                   28.685|             3.235|               4.475|   3852.0264|          0.0|          0.0|         0|        25.0|                 2.0|              1|     0|                     0|              179|\n",
            "|  5|     0|       1994|        2019|  45.187145|  41.106667|                   1|481.02335|            1|             3|          1|     45.1|                  0.0|                    0.0|                    0.0|                      0.0|               0.0|                 0.0|         0.0|          0.0|          0.0|         0|        25.0|                 2.0|              1|     0|                     0|              179|\n",
            "|  6|     0|       1994|        2019|   979.8511|  1090.2167|                   1|1569.4684|            0|             3|          1|1089.4817|              551.905|                 23.925|                  46.31|                   87.015|           367.075|              59.575|   15812.121|          0.0|          0.0|         0|        25.0|                 1.0|              1|     0|                     1|               98|\n",
            "|  7|     0|       1994|        2019|   521.7158|  574.45166|                   1|2657.8633|            2|             3|          1| 552.1717|              758.825|                 438.86|                 87.865|                    74.97|             47.89|               0.115|    8322.669|          0.0|          0.0|         0|        25.0|                 2.0|              1|     0|                     0|              179|\n",
            "|  8|     0|       1994|        2019|  495.75488|    550.285|                   1|2187.9167|            2|             5|          2|  459.495|               592.52|                 60.125|                  34.16|                    63.49|             5.055|              21.465|   1448.6279|          0.0|          0.0|         0|        25.0|                 1.0|              1|     0|                     0|              179|\n",
            "|  9|     0|       1994|        2019|  479.83975|  506.33334|                   1|1272.2383|            2|             3|          1|  513.005|               234.85|                  25.91|                 34.585|                   17.945|               0.0|                 0.0|    8288.716|          0.0|          0.0|         0|        25.0|                 2.0|              1|     0|                     0|              179|\n",
            "| 10|     0|       1994|        2019|  138.20325|    122.235|                   1| 5491.433|            0|             5|          1|  153.705|              239.185|                 20.125|                 16.135|                     13.4|              0.85|                 0.0|    5195.372|          0.0|          0.0|         0|        25.0|                 2.0|              1|     0|                     2|              179|\n",
            "| 11|     0|       1994|        2019|  244.11823|     295.51|                   1|   369.46|            1|             2|          0|347.72833|               164.82|                  82.61|                   6.72|                     2.85|            69.825|                 0.0|    527.9155|          0.0|          0.0|         0|        25.0|                 2.0|              1|     0|                     1|               87|\n",
            "| 12|     0|       1994|        2019|   518.2489|   575.9483|                   2|590.16833|            0|             2|          0|540.16833|              180.085|                164.455|                   9.95|                    46.85|           457.045|              16.125|         0.0|          0.0|          0.0|         0|        25.0|                 2.0|              1|     0|                     1|               87|\n",
            "| 13|     0|       1994|        2019|  18.943346|  24.166666|                   1|  4369.67|            1|             5|          3|23.166666|                  0.0|                    0.0|                    0.0|                      0.0|               0.0|                 0.0|         0.0|          0.0|          0.0|         0|        25.0|                 2.0|              1|     0|                     0|              179|\n",
            "| 14|     0|       1994|        2019|   909.3536|   986.3617|                   1| 2013.335|            0|             4|          0|1069.6417|               752.82|                673.365|                 34.125|                    88.67|               0.0|                0.16|   2404.9834|          0.0|          0.0|         0|        25.0|                 1.0|              1|     0|                     0|              179|\n",
            "| 15|     0|       1994|        2019|   737.7732|   577.8333|                   1|  5174.58|            8|             4|          0| 520.7967|               328.45|                  16.54|                 32.685|                    15.81|             0.335|                 0.0|   3131.4492|          0.0|          0.0|         0|        25.0|                 1.0|              1|     0|                     0|              179|\n",
            "| 16|     0|       1994|        2019|  270.90854|     283.95|                   4|2068.6233|            2|             3|          2|276.81332|              357.335|                 38.895|                  34.02|                     2.14|               0.0|                 0.0|    38.64258|          0.0|          0.0|         0|        25.0|                 2.0|              1|     0|                     0|              179|\n",
            "| 17|     0|       1994|        2019|  266.50226|     267.17|                   1| 623.2117|            3|             1|          1|   245.78|               169.78|                  8.055|                   23.5|                     9.32|             11.29|                2.39|    91.98535|          0.0|          0.0|         0|        25.0|                 2.0|              1|     0|                     0|              179|\n",
            "| 18|     0|       1994|        2019|  51.062046|  66.666664|                   1|  5169.48|            7|            10|          2|     50.0|                  0.0|                    0.0|                    0.0|                      0.0|               0.0|                 0.0|         0.0|          0.0|          0.0|         0|        25.0|                 2.0|              1|     0|                     0|              179|\n",
            "| 19|     0|       1994|        2019|   93.02647|  114.48333|                   1|3324.7183|            6|             3|          2|117.78833|              170.385|                  67.21|                   9.14|                     2.48|             0.185|                 0.0|     94.6875|          0.0|          0.0|         0|        25.0|                 2.0|              1|     5|                     0|              179|\n",
            "+---+------+-----------+------------+-----------+-----------+--------------------+---------+-------------+--------------+-----------+---------+---------------------+-----------------------+-----------------------+-------------------------+------------------+--------------------+------------+-------------+-------------+----------+------------+--------------------+---------------+------+----------------------+-----------------+\n",
            "only showing top 20 rows\n",
            "\n"
          ]
        }
      ],
      "source": [
        "for column in df_spark_col.columns:\n",
        "  if column not in [\"_c0\", \"TARGET\", \"YEAR_JOINED\", \"CURRENT_YEAR\", \"PAYMENT_TRANSACTIONS\", \"PREPAID_LINES\", \"POSTPAID_LINES\", \"OTHER_LINES\", \"COMPLAINTS\", \"PARTY_GENDER_CD\", \"STATUS\", \"SOCIO_ECONOMIC_SEGMENT\", \"PARTY_NATIONALITY\"]:\n",
        "    df_spark_col = df_spark_col.withColumn(column, col(column).cast(FloatType()))\n",
        "  else:\n",
        "    df_spark_col = df_spark_col.withColumn(column, col(column).cast(IntegerType()))\n",
        "\n",
        "\n",
        "df_spark_col.show()"
      ]
    },
    {
      "cell_type": "code",
      "execution_count": 11,
      "metadata": {
        "colab": {
          "base_uri": "https://localhost:8080/"
        },
        "id": "2_WjE7IaoYJn",
        "outputId": "55cdf329-fb71-4345-a54e-30b5284106be"
      },
      "outputs": [
        {
          "name": "stdout",
          "output_type": "stream",
          "text": [
            "root\n",
            " |-- _c0: integer (nullable = true)\n",
            " |-- TARGET: integer (nullable = true)\n",
            " |-- YEAR_JOINED: integer (nullable = true)\n",
            " |-- CURRENT_YEAR: integer (nullable = true)\n",
            " |-- BILL_AMOUNT: float (nullable = true)\n",
            " |-- PAID_AMOUNT: float (nullable = true)\n",
            " |-- PAYMENT_TRANSACTIONS: integer (nullable = true)\n",
            " |-- PARTY_REV: float (nullable = true)\n",
            " |-- PREPAID_LINES: integer (nullable = true)\n",
            " |-- POSTPAID_LINES: integer (nullable = true)\n",
            " |-- OTHER_LINES: integer (nullable = true)\n",
            " |-- LINE_REV: float (nullable = true)\n",
            " |-- MOUS_TO_LOCAL_MOBILES: float (nullable = true)\n",
            " |-- MOUS_FROM_LOCAL_MOBILES: float (nullable = true)\n",
            " |-- MOUS_TO_LOCAL_LANDLINES: float (nullable = true)\n",
            " |-- MOUS_FROM_LOCAL_LANDLINES: float (nullable = true)\n",
            " |-- MOUS_TO_INT_NUMBER: float (nullable = true)\n",
            " |-- MOUS_FROM_INT_NUMBER: float (nullable = true)\n",
            " |-- DATA_IN_BNDL: float (nullable = true)\n",
            " |-- DATA_OUT_BNDL: float (nullable = true)\n",
            " |-- DATA_USG_PAYG: float (nullable = true)\n",
            " |-- COMPLAINTS: integer (nullable = true)\n",
            " |-- Years_stayed: float (nullable = true)\n",
            " |-- PTY_PROFILE_SUB_TYPE: float (nullable = true)\n",
            " |-- PARTY_GENDER_CD: integer (nullable = true)\n",
            " |-- STATUS: integer (nullable = true)\n",
            " |-- SOCIO_ECONOMIC_SEGMENT: integer (nullable = true)\n",
            " |-- PARTY_NATIONALITY: integer (nullable = true)\n",
            "\n"
          ]
        }
      ],
      "source": [
        "df_spark_col.printSchema()"
      ]
    },
    {
      "cell_type": "markdown",
      "metadata": {
        "id": "m33q3JJPvF9A"
      },
      "source": [
        "Se procede a convertir el dataframe a una PipelinedRDD con tal de que el modelo de MlLib seleccionado pueda implementarse"
      ]
    },
    {
      "cell_type": "code",
      "execution_count": 12,
      "metadata": {
        "colab": {
          "base_uri": "https://localhost:8080/"
        },
        "id": "agRRo3fbdkdi",
        "outputId": "bd7bcacc-c2cf-4371-a213-114aff495f94"
      },
      "outputs": [
        {
          "data": {
            "text/plain": [
              "[LabeledPoint(0.0, [1994.0,2019.0,931.2089233398438,812.1749877929688,1.0,5968.7001953125,2.0,6.0,2.0,945.0399780273438,1004.0700073242188,35.849998474121094,34.01499938964844,72.07499694824219,141.83999633789062,56.1150016784668,11944.0791015625,0.0,0.0,0.0,25.0,2.0,1.0,0.0,0.0,179.0]),\n",
              " LabeledPoint(0.0, [1994.0,2019.0,431.0826110839844,486.5,1.0,6245.1416015625,6.0,4.0,2.0,493.81500244140625,159.0500030517578,10.595000267028809,7.715000152587891,11.75,5.110000133514404,0.0,9903.158203125,0.0,0.0,0.0,25.0,1.0,1.0,0.0,0.0,179.0]),\n",
              " LabeledPoint(0.0, [1994.0,2019.0,50.61964416503906,52.814998626708984,1.0,1666.48828125,2.0,3.0,1.0,50.29999923706055,0.0,0.0,0.0,0.0,0.0,0.0,0.1025390625,0.0,0.0,0.0,25.0,2.0,1.0,0.0,0.0,179.0]),\n",
              " LabeledPoint(0.0, [1994.0,2019.0,399.71002197265625,422.2349853515625,1.0,2522.00830078125,3.0,4.0,3.0,406.586669921875,288.80499267578125,158.5,2.6700000762939453,15.96500015258789,0.0,0.0,3600.322265625,0.0,0.0,0.0,25.0,1.0,1.0,0.0,0.0,179.0]),\n",
              " LabeledPoint(0.0, [1994.0,2019.0,612.6658325195312,825.8883056640625,1.0,1219.961669921875,0.0,2.0,1.0,751.1849975585938,209.75999450683594,186.0500030517578,17.514999389648438,28.684999465942383,3.234999895095825,4.474999904632568,3852.0263671875,0.0,0.0,0.0,25.0,2.0,1.0,0.0,0.0,179.0]),\n",
              " LabeledPoint(0.0, [1994.0,2019.0,45.1871452331543,41.106666564941406,1.0,481.0233459472656,1.0,3.0,1.0,45.099998474121094,0.0,0.0,0.0,0.0,0.0,0.0,0.0,0.0,0.0,0.0,25.0,2.0,1.0,0.0,0.0,179.0]),\n",
              " LabeledPoint(0.0, [1994.0,2019.0,979.85107421875,1090.2166748046875,1.0,1569.4683837890625,0.0,3.0,1.0,1089.481689453125,551.905029296875,23.924999237060547,46.310001373291016,87.01499938964844,367.07501220703125,59.57500076293945,15812.12109375,0.0,0.0,0.0,25.0,1.0,1.0,0.0,1.0,98.0]),\n",
              " LabeledPoint(0.0, [1994.0,2019.0,521.7158203125,574.45166015625,1.0,2657.86328125,2.0,3.0,1.0,552.1716918945312,758.8250122070312,438.8599853515625,87.86499786376953,74.97000122070312,47.88999938964844,0.11500000208616257,8322.6689453125,0.0,0.0,0.0,25.0,2.0,1.0,0.0,0.0,179.0]),\n",
              " LabeledPoint(0.0, [1994.0,2019.0,495.7548828125,550.2849731445312,1.0,2187.916748046875,2.0,5.0,2.0,459.4949951171875,592.52001953125,60.125,34.15999984741211,63.4900016784668,5.054999828338623,21.46500015258789,1448.6279296875,0.0,0.0,0.0,25.0,1.0,1.0,0.0,0.0,179.0]),\n",
              " LabeledPoint(0.0, [1994.0,2019.0,479.8397521972656,506.3333435058594,1.0,1272.23828125,2.0,3.0,1.0,513.0050048828125,234.85000610351562,25.90999984741211,34.584999084472656,17.94499969482422,0.0,0.0,8288.7158203125,0.0,0.0,0.0,25.0,2.0,1.0,0.0,0.0,179.0])]"
            ]
          },
          "execution_count": 12,
          "metadata": {},
          "output_type": "execute_result"
        }
      ],
      "source": [
        "df_RDD = df_spark_col.rdd.map(lambda x: LabeledPoint(x[1], x[2:]))\n",
        "df_RDD.take(10)"
      ]
    },
    {
      "cell_type": "markdown",
      "metadata": {
        "id": "B59mkuwzwhiI"
      },
      "source": [
        "División del PipelinedRDD en test y train"
      ]
    },
    {
      "cell_type": "code",
      "execution_count": 13,
      "metadata": {
        "id": "79kcuJDkg4Ed"
      },
      "outputs": [],
      "source": [
        "(train, test) = df_RDD.randomSplit([0.7,0.3])\n"
      ]
    },
    {
      "cell_type": "markdown",
      "metadata": {
        "id": "Rr-l3pfvzMDx"
      },
      "source": [
        "Implementación de regresión logística con LBFGS en su configuración estándar entrenando con el set de datos específico para el entranamiento"
      ]
    },
    {
      "cell_type": "code",
      "execution_count": 14,
      "metadata": {
        "id": "7u070xhihqIa"
      },
      "outputs": [],
      "source": [
        "from pyspark.mllib.classification import LogisticRegressionWithLBFGS, LogisticRegressionModel\n",
        "\n",
        "model = LogisticRegressionWithLBFGS.train(train)"
      ]
    },
    {
      "cell_type": "markdown",
      "metadata": {
        "id": "28aPkuPL5yLU"
      },
      "source": [
        "Se obtienen las predicciones de churn o no churn de los clientes basándose en el set de pruebas así como la obtención del error del entrenamiento, siendo de un 5.23%"
      ]
    },
    {
      "cell_type": "code",
      "execution_count": 15,
      "metadata": {
        "colab": {
          "base_uri": "https://localhost:8080/"
        },
        "id": "sbymbCYZO9A5",
        "outputId": "78c5802e-e455-459c-c1b5-1a623474420b"
      },
      "outputs": [
        {
          "name": "stdout",
          "output_type": "stream",
          "text": [
            "Training Error = 0.05235111091634165\n"
          ]
        }
      ],
      "source": [
        "labelsAndPreds = test.map(lambda p: (p.label, model.predict(p.features)))\n",
        "trainErr = labelsAndPreds.filter(lambda lp: lp[0] != lp[1]).count() / float(test.count())\n",
        "print(\"Training Error = \" + str(trainErr))"
      ]
    },
    {
      "cell_type": "markdown",
      "metadata": {
        "id": "q8oulECc5_7C"
      },
      "source": [
        "Intercepto del modelo"
      ]
    },
    {
      "cell_type": "code",
      "execution_count": 16,
      "metadata": {
        "colab": {
          "base_uri": "https://localhost:8080/"
        },
        "id": "LpTZisF1LFsK",
        "outputId": "134ceabb-28b3-4016-87f9-c528274c1488"
      },
      "outputs": [
        {
          "name": "stdout",
          "output_type": "stream",
          "text": [
            "Logistic Regression Intercept =  0.0\n"
          ]
        }
      ],
      "source": [
        "print(\"Logistic Regression Intercept = \", model.intercept)"
      ]
    },
    {
      "cell_type": "code",
      "execution_count": 17,
      "metadata": {
        "colab": {
          "base_uri": "https://localhost:8080/"
        },
        "id": "PmhTzY6xrBDT",
        "outputId": "c808a66d-6ad3-424c-8665-ea2e22a66290"
      },
      "outputs": [
        {
          "data": {
            "text/plain": [
              "PythonRDD[182] at RDD at PythonRDD.scala:53"
            ]
          },
          "execution_count": 17,
          "metadata": {},
          "output_type": "execute_result"
        }
      ],
      "source": [
        "y_pred = model.predict(train)\n",
        "y_pred"
      ]
    },
    {
      "cell_type": "markdown",
      "metadata": {
        "id": "IctEMhkD6DGZ"
      },
      "source": [
        "100 predicciones para mostrar el comportamiento de los resultados, siendo en su mayoría los clientes con 0 de valor (no churn)"
      ]
    },
    {
      "cell_type": "code",
      "execution_count": 18,
      "metadata": {
        "colab": {
          "base_uri": "https://localhost:8080/"
        },
        "id": "cr_7fUC9BB1Z",
        "outputId": "6c9451ee-6136-4b74-cc57-81f2b10d9733"
      },
      "outputs": [
        {
          "data": {
            "text/plain": [
              "[(0.0, 0),\n",
              " (0.0, 0),\n",
              " (0.0, 0),\n",
              " (0.0, 0),\n",
              " (0.0, 0),\n",
              " (0.0, 0),\n",
              " (0.0, 0),\n",
              " (0.0, 0),\n",
              " (0.0, 0),\n",
              " (0.0, 0),\n",
              " (1.0, 0),\n",
              " (0.0, 0),\n",
              " (0.0, 0),\n",
              " (0.0, 0),\n",
              " (0.0, 0),\n",
              " (0.0, 0),\n",
              " (0.0, 0),\n",
              " (0.0, 0),\n",
              " (0.0, 0),\n",
              " (0.0, 0),\n",
              " (0.0, 0),\n",
              " (0.0, 0),\n",
              " (0.0, 0),\n",
              " (0.0, 0),\n",
              " (0.0, 0),\n",
              " (0.0, 0),\n",
              " (0.0, 0),\n",
              " (0.0, 0),\n",
              " (0.0, 0),\n",
              " (0.0, 0),\n",
              " (0.0, 0),\n",
              " (0.0, 0),\n",
              " (0.0, 0),\n",
              " (0.0, 0),\n",
              " (0.0, 0),\n",
              " (0.0, 0),\n",
              " (0.0, 0),\n",
              " (0.0, 0),\n",
              " (0.0, 0),\n",
              " (0.0, 0),\n",
              " (0.0, 0),\n",
              " (0.0, 0),\n",
              " (1.0, 0),\n",
              " (0.0, 0),\n",
              " (0.0, 0),\n",
              " (0.0, 0),\n",
              " (0.0, 0),\n",
              " (0.0, 0),\n",
              " (0.0, 0),\n",
              " (0.0, 0),\n",
              " (0.0, 0),\n",
              " (0.0, 0),\n",
              " (0.0, 0),\n",
              " (0.0, 0),\n",
              " (0.0, 0),\n",
              " (0.0, 0),\n",
              " (0.0, 0),\n",
              " (0.0, 0),\n",
              " (0.0, 0),\n",
              " (0.0, 0),\n",
              " (0.0, 0),\n",
              " (0.0, 0),\n",
              " (0.0, 0),\n",
              " (0.0, 0),\n",
              " (0.0, 0),\n",
              " (0.0, 0),\n",
              " (0.0, 0),\n",
              " (0.0, 0),\n",
              " (0.0, 0),\n",
              " (0.0, 0),\n",
              " (0.0, 0),\n",
              " (0.0, 0),\n",
              " (0.0, 0),\n",
              " (0.0, 0),\n",
              " (0.0, 0),\n",
              " (0.0, 0),\n",
              " (0.0, 0),\n",
              " (0.0, 0),\n",
              " (0.0, 0),\n",
              " (0.0, 0),\n",
              " (0.0, 0),\n",
              " (0.0, 0),\n",
              " (0.0, 0),\n",
              " (0.0, 0),\n",
              " (0.0, 0),\n",
              " (0.0, 0),\n",
              " (0.0, 0),\n",
              " (0.0, 0),\n",
              " (0.0, 0),\n",
              " (0.0, 0),\n",
              " (0.0, 0),\n",
              " (0.0, 0),\n",
              " (0.0, 0),\n",
              " (0.0, 0),\n",
              " (0.0, 0),\n",
              " (0.0, 0),\n",
              " (0.0, 0),\n",
              " (0.0, 0),\n",
              " (0.0, 0),\n",
              " (0.0, 0)]"
            ]
          },
          "execution_count": 18,
          "metadata": {},
          "output_type": "execute_result"
        }
      ],
      "source": [
        "labelsAndPreds.take(100)"
      ]
    },
    {
      "cell_type": "markdown",
      "metadata": {
        "id": "H1S6U3V76MHq"
      },
      "source": [
        "Se obtuvieron 18033 clientes con posible churn y 324252 con no churn"
      ]
    },
    {
      "cell_type": "code",
      "execution_count": 19,
      "metadata": {
        "colab": {
          "base_uri": "https://localhost:8080/"
        },
        "id": "oJbsJ64mrGDv",
        "outputId": "54539c72-cab0-4cc0-93fc-a57e681e5b46"
      },
      "outputs": [
        {
          "name": "stdout",
          "output_type": "stream",
          "text": [
            "Clients with churn:  18033\n",
            "Clients with no churn:  324252\n"
          ]
        }
      ],
      "source": [
        "churn = []\n",
        "no_churn = []\n",
        "pred = labelsAndPreds.collect()\n",
        "for row in pred:\n",
        "  if row[0] == 0.0:\n",
        "    no_churn.append(row)\n",
        "  else:\n",
        "    churn.append(row)\n",
        "\n",
        "print(\"Clients with churn: \", len(churn))\n",
        "print(\"Clients with no churn: \", len(no_churn))"
      ]
    },
    {
      "cell_type": "markdown",
      "metadata": {
        "id": "AT6TN0ym6S7w"
      },
      "source": [
        "A su vez, la regresión logística cuenta con un 87.7% de efectividad"
      ]
    },
    {
      "cell_type": "code",
      "execution_count": 20,
      "metadata": {
        "colab": {
          "base_uri": "https://localhost:8080/"
        },
        "id": "sqRp4EIpP0Od",
        "outputId": "673dc4fd-048d-4ac1-b743-4559dccc1ab0"
      },
      "outputs": [
        {
          "data": {
            "text/plain": [
              "0.8770886356326395"
            ]
          },
          "execution_count": 20,
          "metadata": {},
          "output_type": "execute_result"
        }
      ],
      "source": [
        "from pyspark.ml.evaluation import BinaryClassificationEvaluator\n",
        "\n",
        "dataset = spark_session.createDataFrame(labelsAndPreds, [\"raw\", \"label\"])\n",
        "evaluator = BinaryClassificationEvaluator()\n",
        "evaluator.setRawPredictionCol(\"raw\")\n",
        "evaluator.evaluate(dataset)\n"
      ]
    },
    {
      "cell_type": "markdown",
      "metadata": {
        "id": "VmgmAfAXVc-v"
      },
      "source": [
        "### **Gráficas de Tableau**\n",
        "\n",
        "\n",
        "\n",
        "Gráfica 1: Llamadas a teléfono fijo o celular según segmento socioeconómico\n",
        "<br>\n",
        "<img src = \"https://drive.google.com/uc?id=1dFRdtadg73VUilIpipQ-1nAQVtWjbkgG\" alt = \"Gráfica 1\" />\n",
        "\n",
        "Gráfica 2: Nacionalidad vs Bill Amount\n",
        "\n",
        "<img src = \"https://drive.google.com/uc?id=14t7A3ado8myF5SX-dtAJz6h9TlFRCftO\" alt = \"Gráfica 2\" />\n",
        "\n",
        "Gráfica 3: Quejas según el año en el que se unió el cliente\n",
        "\n",
        "<img src = \"https://drive.google.com/uc?id=1MtykbLpe1XsxA5j2BS8hvbqBVnXD4Mst\" alt = \"Gráfica 3\" />\n",
        "\n",
        "Gráfica 4: Años en la empresa de cada cliente por lineas contratadas\n",
        "\n",
        "<img src = \"https://drive.google.com/uc?id=1Wi2SQlYxWEtMFsrB7ihJMCfOYiuzRjSp\" alt = \"Gráfica 4\" />\n"
      ]
    }
  ],
  "metadata": {
    "colab": {
      "provenance": []
    },
    "kernelspec": {
      "display_name": "Python 3.8.10 64-bit (microsoft store)",
      "language": "python",
      "name": "python3"
    },
    "language_info": {
      "name": "python",
      "version": "3.8.10"
    },
    "vscode": {
      "interpreter": {
        "hash": "2895a9ff45eae723fdadc456c4bca17d77a71277f8efe34e6ebc3ca2a18e1d2d"
      }
    }
  },
  "nbformat": 4,
  "nbformat_minor": 0
}
